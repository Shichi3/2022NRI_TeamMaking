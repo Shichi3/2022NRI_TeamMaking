{
 "cells": [
  {
   "cell_type": "code",
   "execution_count": null,
   "metadata": {},
   "outputs": [],
   "source": [
    "# 必要なモジュールをインポートする\n",
    "import pandas as pd\n",
    "import numpy as np\n",
    "from collections import defaultdict\n",
    "import math\n",
    "import random\n",
    "from copy import deepcopy\n",
    "from TeamMaking_module import sort_by_todofuken, sameTeam_count, womenLess_count, GroupingProblem\n",
    "\n",
    "tdfk = ['北海道', '青森', '岩手', '宮城', '秋田', '山形', '福島',\n",
    "        '茨城', '栃木', '群馬', '埼玉', '千葉', '東京', '神奈川',\n",
    "        '新潟', '富山', '石川', '福井', '山梨', '長野', '岐阜',\n",
    "        '静岡', '愛知', '三重', '滋賀', '京都', '大阪', '兵庫',\n",
    "        '奈良', '和歌山', '鳥取', '島根', '岡山', '広島', '山口', \n",
    "        '徳島', '香川', '愛媛', '高知', '福岡', '佐賀', '長崎',\n",
    "        '熊本', '大分', '宮崎', '鹿児島', '沖縄', '海外', 'なし']"
   ]
  },
  {
   "cell_type": "code",
   "execution_count": null,
   "metadata": {},
   "outputs": [],
   "source": [
    "# 前処理\n",
    "# データ読み込み\n",
    "\n",
    "raw_data = pd.read_excel(\"./data/participant_data_all.xlsx\")\n",
    "# raw_data.drop('出身', axis=1, inplace=True)\n",
    "\n",
    "# 余分な半角スペースや全角スペースを削除する\n",
    "raw_data[\"氏名\"] = raw_data[\"氏名\"].str.replace('\\s', '', regex=True).values\n",
    "\n",
    "remove_data = pd.read_excel(\"./data/グループ分け除外リスト.xlsx\")\n",
    "print(raw_data.shape)"
   ]
  },
  {
   "cell_type": "code",
   "execution_count": null,
   "metadata": {},
   "outputs": [],
   "source": [
    "A_coordinator_list = pd.read_csv(\"./data/assignmentA_data.csv\").loc[:, '氏名'].tolist()\n",
    "B_coordinator_list = pd.read_csv(\"./data/assignmentB_data.csv\").loc[:, '氏名'].tolist()\n",
    "A_coordinator_list.extend(['春日原大地', '濱野将貴'])\n",
    "B_coordinator_list.extend(['中尾圭吾', '森田啓介'])\n",
    "\n",
    "A_coordinator = raw_data.query(\"氏名 in @A_coordinator_list\")\n",
    "B_coordinator = raw_data.query(\"氏名 in @B_coordinator_list\")\n",
    "\n",
    "other = raw_data.query(\"'その他' in 参加場所\")\n",
    "\n",
    "remove_list = remove_data.loc[:, '氏名'].tolist() + A_coordinator_list + B_coordinator_list + other.loc[:, '氏名'].to_list()\n",
    "data = raw_data.query(\"氏名 not in @remove_list\")"
   ]
  },
  {
   "cell_type": "code",
   "execution_count": null,
   "metadata": {},
   "outputs": [],
   "source": [
    "other"
   ]
  },
  {
   "cell_type": "code",
   "execution_count": null,
   "metadata": {},
   "outputs": [],
   "source": [
    "# 重複している人を削除する\n",
    "unique_data = data.drop_duplicates(subset='氏名')"
   ]
  },
  {
   "cell_type": "code",
   "execution_count": null,
   "metadata": {},
   "outputs": [],
   "source": [
    "fixed_data = unique_data.copy()\n",
    "fixed_data = fixed_data.sort_values('性別')\n",
    "fixed_data.reset_index(inplace=True, drop=True)"
   ]
  },
  {
   "cell_type": "code",
   "execution_count": null,
   "metadata": {},
   "outputs": [],
   "source": [
    "fixed_data = sort_by_todofuken(fixed_data, tdfk=tdfk)"
   ]
  },
  {
   "cell_type": "code",
   "execution_count": null,
   "metadata": {},
   "outputs": [],
   "source": [
    "fixed_data.value_counts(subset='性別')"
   ]
  },
  {
   "cell_type": "code",
   "execution_count": null,
   "metadata": {},
   "outputs": [],
   "source": [
    "B_coordinator"
   ]
  },
  {
   "cell_type": "code",
   "execution_count": null,
   "metadata": {},
   "outputs": [],
   "source": [
    "# 男性をAとBに分ける(分ける人数は資料を参照)\n",
    "male_data = fixed_data[fixed_data[\"性別\"] == \"男\"]\n",
    "male_num = len(male_data)\n",
    "male_teamA = male_data.iloc[:111, :]\n",
    "male_teamB = male_data.iloc[111:, :]\n",
    "\n",
    "# 女性をAとBに分ける\n",
    "female_data = fixed_data[fixed_data[\"性別\"] == \"女\"]\n",
    "female_num = len(female_data)\n",
    "female_teamA = female_data.iloc[:54, :]\n",
    "female_teamB = female_data.iloc[54:, :]\n",
    "\n",
    "print(f'Male number is {len(male_teamA)}')\n",
    "print(f'Female number is {len(female_teamA)}')"
   ]
  },
  {
   "cell_type": "code",
   "execution_count": null,
   "metadata": {},
   "outputs": [],
   "source": [
    "other_male = other.query('性別 == \"男\"')\n",
    "other_female = other.query('性別 == \"女\"')\n",
    "\n",
    "B_coordinator_male = B_coordinator.query('性別 == \"男\"')\n",
    "B_coordinator_female = B_coordinator.query('性別 == \"女\"')\n",
    "\n",
    "male_teamB = pd.concat([male_teamB, B_coordinator_male])\n",
    "female_teamB = pd.concat([female_teamB,  B_coordinator_female])"
   ]
  },
  {
   "cell_type": "code",
   "execution_count": null,
   "metadata": {},
   "outputs": [],
   "source": [
    "B_coordinator"
   ]
  },
  {
   "cell_type": "code",
   "execution_count": null,
   "metadata": {},
   "outputs": [],
   "source": [
    "male_teamB.shape, female_teamB.shape"
   ]
  },
  {
   "cell_type": "code",
   "execution_count": null,
   "metadata": {},
   "outputs": [],
   "source": [
    "totalMember_num = len(female_teamB) + len(male_teamB)\n",
    "print(f'Number of Team B member is {totalMember_num}')\n",
    "team_num = 36\n",
    "if totalMember_num % team_num == 0:\n",
    "    teamMember_num = totalMember_num // team_num\n",
    "    shortage = 0\n",
    "else:\n",
    "    teamMember_num = totalMember_num // team_num + 1\n",
    "    shortage = team_num * teamMember_num - totalMember_num\n",
    "totalMember_num += (shortage)\n",
    "print(f'Member number is `{totalMember_num}') \n",
    "print(f'Team number is `{team_num}')"
   ]
  },
  {
   "cell_type": "code",
   "execution_count": null,
   "metadata": {},
   "outputs": [],
   "source": [
    "# 同じチームになったことがあるか記録する\n",
    "sameTeam_list = np.zeros((totalMember_num, totalMember_num))\n",
    "\n",
    "# 女性が少ないチームになったことがあるかを記録する\n",
    "womenLess_list = np.zeros(totalMember_num)"
   ]
  },
  {
   "cell_type": "code",
   "execution_count": null,
   "metadata": {},
   "outputs": [],
   "source": [
    "# 男性、女性、ダミーの順番で並んだdataframeを作成する\n",
    "dammyDF = pd.DataFrame([['ダミー', 'なし', 'なし', 'なし', 'なし'] for i in range(shortage)], columns=fixed_data.columns)\n",
    "outputDF = pd.concat([male_teamB, female_teamB, dammyDF]).reset_index(drop=True)\n",
    "outputDF = sort_by_todofuken(outputDF)\n",
    "member_list = outputDF.values.tolist()"
   ]
  },
  {
   "cell_type": "code",
   "execution_count": null,
   "metadata": {},
   "outputs": [],
   "source": [
    "print(f'Team number is {team_num}')\n",
    "print(f'Total number of member is {totalMember_num}')"
   ]
  },
  {
   "cell_type": "code",
   "execution_count": null,
   "metadata": {},
   "outputs": [],
   "source": [
    "# 1回目のチームを作成する（チーム座談会）\n",
    "# 男、女、ダミーの順で並んでいるため、前から順にチーム番号を振っていく\n",
    "teamList = np.tile(np.arange(team_num), (teamMember_num,1))\n",
    "memberList = np.arange(totalMember_num).reshape(teamMember_num, team_num)\n",
    "outputDF[\"チーム座談会_班番号\"] = teamList.ravel()\n",
    "# 同じチームになった回数をカウントする\n",
    "sameTeam_list = sameTeam_count(sameTeam_list, memberList.T)\n",
    "# 女性が少ないチームになった回数をカウントする\n",
    "gender_count_by_team = [defaultdict(int) for _ in range(team_num)]\n",
    "for i in range(totalMember_num):\n",
    "    gender_count_by_team[teamList.ravel()[i]][outputDF[\"性別\"].values[i]] += 1\n",
    "womenLess_list = womenLess_count(womenLess_list, teamList.ravel(), gender_count_by_team)"
   ]
  },
  {
   "cell_type": "code",
   "execution_count": null,
   "metadata": {},
   "outputs": [],
   "source": [
    "memberList"
   ]
  },
  {
   "cell_type": "code",
   "execution_count": null,
   "metadata": {},
   "outputs": [],
   "source": [
    "# チームを作成する（ランダム座談会用）\n",
    "# 最適化を使用して、同じチームが発生しないようにする\n",
    "random.seed(95)\n",
    "init_state = [list(teamList.ravel()), gender_count_by_team, memberList.T.tolist()]\n",
    "prob = GroupingProblem(init_state, member_list, sameTeam_list, womenLess_list, totalMember_num, team_num)\n",
    "prob.steps = 10**4 * 3\n",
    "prob.copy_strategy = \"deepcopy\"\n",
    "state, e = prob.anneal()\n",
    "sameTeam_list = sameTeam_count(sameTeam_list, prob.state[2])\n",
    "womenLess_list = womenLess_count(womenLess_list, prob.state[0], prob.state[1])\n",
    "outputDF[\"ランダム座談会_班番号\"] = prob.state[0]"
   ]
  },
  {
   "cell_type": "code",
   "execution_count": null,
   "metadata": {},
   "outputs": [],
   "source": [
    "outputDF"
   ]
  },
  {
   "cell_type": "code",
   "execution_count": null,
   "metadata": {},
   "outputs": [],
   "source": [
    "# 作成する（チーム対抗レク）\n",
    "team_zadankai = outputDF['チーム座談会_班番号']\n",
    "for i in range(18, 36):\n",
    "    team_zadankai = team_zadankai.replace(i, i-18)\n",
    "\n",
    "# print(team_zadankai)\n",
    "outputDF['チーム対抗レク_班番号'] = team_zadankai\n",
    "outputDF['チーム対抗レク_班番号'] = outputDF['チーム対抗レク_班番号'].astype(int)\n",
    "\n",
    "team_num = 18\n",
    "team_recreation_List = np.ndarray((team_num, totalMember_num//team_num), dtype=int)\n",
    "for i in range(team_num):\n",
    "    team_recreation = outputDF.query(f'チーム対抗レク_班番号 == {i}').index.to_numpy()\n",
    "    # print(team_recreation)\n",
    "    team_recreation_List[i] = team_recreation\n",
    "\n",
    "# 同じチームになった回数をカウントする\n",
    "sameTeam_list = sameTeam_count(sameTeam_list, team_recreation_List)\n",
    "\n",
    "\n",
    "# 女性が少ないチームになった回数をカウントする\n",
    "gender_count_by_team = [defaultdict(int) for _ in range(team_num)]\n",
    "for i in range(team_num):\n",
    "    for j in range(totalMember_num//team_num):\n",
    "        gender_count_by_team[i][outputDF['性別'].values[i+j*18]] += 1\n",
    "womenLess_list = womenLess_count(womenLess_list, np.array(outputDF['チーム対抗レク_班番号']).ravel(), gender_count_by_team)"
   ]
  },
  {
   "cell_type": "code",
   "execution_count": null,
   "metadata": {},
   "outputs": [],
   "source": [
    "outputDF = pd.concat([outputDF, pd.Series(name='個人対抗レク_班番号', dtype=np.float64)], axis=1)"
   ]
  },
  {
   "cell_type": "code",
   "execution_count": null,
   "metadata": {},
   "outputs": [],
   "source": [
    "# 作成する（個人対抗レク）\n",
    "for i in range(len(outputDF)):\n",
    "    outputDF.loc[i, '個人対抗レク_班番号'] = int(29-(i%29))"
   ]
  },
  {
   "cell_type": "code",
   "execution_count": null,
   "metadata": {},
   "outputs": [],
   "source": [
    "outputDF"
   ]
  },
  {
   "cell_type": "code",
   "execution_count": null,
   "metadata": {},
   "outputs": [],
   "source": [
    "# 重複している回数を計算する\n",
    "np.count_nonzero(sameTeam_list >= 2) // 2"
   ]
  },
  {
   "cell_type": "code",
   "execution_count": null,
   "metadata": {},
   "outputs": [],
   "source": [
    "# 女性少数チームの回数を計算する\n",
    "np.count_nonzero(womenLess_list == 3) // 2"
   ]
  },
  {
   "cell_type": "markdown",
   "metadata": {},
   "source": [
    "## csvファイルとして出力"
   ]
  },
  {
   "cell_type": "code",
   "execution_count": null,
   "metadata": {},
   "outputs": [],
   "source": [
    "teamB = deepcopy(outputDF)\n",
    "teamB[\"グループ\"] = \"B\""
   ]
  },
  {
   "cell_type": "code",
   "execution_count": null,
   "metadata": {},
   "outputs": [],
   "source": [
    "# 出力するチーム名を適切な形に変化させる\n",
    "apply_list =['チーム座談会_班番号', 'チーム対抗レク_班番号', 'ランダム座談会_班番号']\n",
    "for l in apply_list:\n",
    "    teamB[l] = teamB[l].apply(lambda n: n+1)"
   ]
  },
  {
   "cell_type": "code",
   "execution_count": null,
   "metadata": {},
   "outputs": [],
   "source": [
    "teamB.to_excel(\"./out/B_班番号.xlsx\")"
   ]
  },
  {
   "cell_type": "code",
   "execution_count": null,
   "metadata": {},
   "outputs": [],
   "source": [
    "copyB = deepcopy(teamB.loc[:,['氏名', '個人対抗レク_班番号']])\n",
    "copyB[\"何人目\"] = copyB.groupby('個人対抗レク_班番号').cumcount()+1\n",
    "B_data = copyB.pivot(index='個人対抗レク_班番号', columns='何人目', values='氏名')"
   ]
  },
  {
   "cell_type": "code",
   "execution_count": null,
   "metadata": {},
   "outputs": [],
   "source": [
    "apply_list =['チーム座談会_班番号', 'ランダム座談会_班番号', 'チーム対抗レク_班番号', '個人対抗レク_班番号']\n",
    "with pd.ExcelWriter(\"./out/B_班員.xlsx\") as writer:\n",
    "    for l in apply_list:\n",
    "        copyB = deepcopy(teamB.loc[:,['氏名', l]])\n",
    "        copyB[\"何人目\"] = copyB.groupby(l).cumcount()+1\n",
    "        B_data = copyB.pivot(index=l, columns='何人目', values='氏名')\n",
    "        B_data.fillna('ダミー', inplace=True)\n",
    "        B_data.to_excel(writer, sheet_name=l)"
   ]
  },
  {
   "cell_type": "code",
   "execution_count": null,
   "metadata": {},
   "outputs": [],
   "source": []
  }
 ],
 "metadata": {
  "kernelspec": {
   "display_name": "Python 3.9.12 ('nri_teammaking')",
   "language": "python",
   "name": "python3"
  },
  "language_info": {
   "codemirror_mode": {
    "name": "ipython",
    "version": 3
   },
   "file_extension": ".py",
   "mimetype": "text/x-python",
   "name": "python",
   "nbconvert_exporter": "python",
   "pygments_lexer": "ipython3",
   "version": "3.9.12"
  },
  "orig_nbformat": 4,
  "vscode": {
   "interpreter": {
    "hash": "0382fb7e483c50f2e76501cad74bb47281e502d470bda6842a664fb8e0c620b1"
   }
  }
 },
 "nbformat": 4,
 "nbformat_minor": 2
}
